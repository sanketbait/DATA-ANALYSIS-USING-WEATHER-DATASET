{
  "nbformat": 4,
  "nbformat_minor": 0,
  "metadata": {
    "colab": {
      "name": "Project_with_ weather_dataset.ipynb",
      "provenance": [],
      "collapsed_sections": []
    },
    "kernelspec": {
      "name": "python3",
      "display_name": "Python 3"
    },
    "language_info": {
      "name": "python"
    }
  },
  "cells": [
    {
      "cell_type": "code",
      "execution_count": null,
      "metadata": {
        "id": "bBFwHcoMnQAD"
      },
      "outputs": [],
      "source": [
        "import pandas as pd\n",
        "import numpy as np\n",
        "import seaborn as sns\n",
        "import matplotlib.pyplot as plt\n"
      ]
    },
    {
      "cell_type": "code",
      "source": [
        "data = pd.read_csv(r\"/content/1. Weather Data.csv\")  "
      ],
      "metadata": {
        "id": "AdCF2R3XnZzX"
      },
      "execution_count": null,
      "outputs": []
    },
    {
      "cell_type": "code",
      "source": [
        "data"
      ],
      "metadata": {
        "id": "VP1STTeinlg6"
      },
      "execution_count": null,
      "outputs": []
    },
    {
      "cell_type": "code",
      "source": [
        "data.head()  "
      ],
      "metadata": {
        "id": "ksQSejq4nsix"
      },
      "execution_count": null,
      "outputs": []
    },
    {
      "cell_type": "code",
      "source": [
        "data.shape"
      ],
      "metadata": {
        "id": "uQTRU5DEnxim"
      },
      "execution_count": null,
      "outputs": []
    },
    {
      "cell_type": "code",
      "source": [
        "data.index"
      ],
      "metadata": {
        "id": "QC_tT2Qcn3N9"
      },
      "execution_count": null,
      "outputs": []
    },
    {
      "cell_type": "code",
      "source": [
        "data.columns"
      ],
      "metadata": {
        "id": "izue4g9FoIzC"
      },
      "execution_count": null,
      "outputs": []
    },
    {
      "cell_type": "code",
      "source": [
        "data.dtypes"
      ],
      "metadata": {
        "id": "xmhENHHqoPQF"
      },
      "execution_count": null,
      "outputs": []
    },
    {
      "cell_type": "code",
      "source": [
        "data[\"Temp_C\"].unique()"
      ],
      "metadata": {
        "id": "9vo6ARXsoXst"
      },
      "execution_count": null,
      "outputs": []
    },
    {
      "cell_type": "code",
      "source": [
        "data[\"Weather\"].unique()"
      ],
      "metadata": {
        "id": "gkdymxqx3A3T"
      },
      "execution_count": null,
      "outputs": []
    },
    {
      "cell_type": "code",
      "source": [
        "data.nunique()"
      ],
      "metadata": {
        "id": "Vt5p4qQuodMU"
      },
      "execution_count": null,
      "outputs": []
    },
    {
      "cell_type": "code",
      "source": [
        "data.count()"
      ],
      "metadata": {
        "id": "fRZGXK-0opbO"
      },
      "execution_count": null,
      "outputs": []
    },
    {
      "cell_type": "code",
      "source": [
        "data[\"Weather\"].value_counts()"
      ],
      "metadata": {
        "id": "9NJBZOo54xDj"
      },
      "execution_count": null,
      "outputs": []
    },
    {
      "cell_type": "code",
      "source": [
        "data.info()"
      ],
      "metadata": {
        "id": "rOe9fgqX40qs"
      },
      "execution_count": null,
      "outputs": []
    },
    {
      "cell_type": "code",
      "source": [
        "data.describe()"
      ],
      "metadata": {
        "id": "v7eITBMH4-ts"
      },
      "execution_count": null,
      "outputs": []
    },
    {
      "cell_type": "code",
      "source": [
        "data.size"
      ],
      "metadata": {
        "id": "qULnMAP55DFG"
      },
      "execution_count": null,
      "outputs": []
    },
    {
      "cell_type": "markdown",
      "source": [
        "Q)1. Find all the unique \"wind spped\" values in the data."
      ],
      "metadata": {
        "id": "DyYZvpWu6VdC"
      }
    },
    {
      "cell_type": "code",
      "source": [
        "data.columns"
      ],
      "metadata": {
        "id": "7GVbB_SjZknr"
      },
      "execution_count": null,
      "outputs": []
    },
    {
      "cell_type": "code",
      "source": [
        "data[\"Wind Speed_km/h\"].unique()"
      ],
      "metadata": {
        "id": "lEQlbnYi5Ivl"
      },
      "execution_count": null,
      "outputs": []
    },
    {
      "cell_type": "code",
      "source": [
        "data[\"Wind Speed_km/h\"].nunique()"
      ],
      "metadata": {
        "id": "LF_2RuLdZyeA"
      },
      "execution_count": null,
      "outputs": []
    },
    {
      "cell_type": "markdown",
      "source": [
        "Q)2. find the number of times  when the \"weather is exactly clear\"."
      ],
      "metadata": {
        "id": "DVGp9mY56Tds"
      }
    },
    {
      "cell_type": "code",
      "source": [
        "data.columns"
      ],
      "metadata": {
        "id": "8jqeBLZcZ62k"
      },
      "execution_count": null,
      "outputs": []
    },
    {
      "cell_type": "code",
      "source": [
        "data[\"Weather\"].unique()"
      ],
      "metadata": {
        "id": "BtSWlla-Z-nk"
      },
      "execution_count": null,
      "outputs": []
    },
    {
      "cell_type": "code",
      "source": [
        "data1 = data[data[\"Weather\"] == \"Clear\"]"
      ],
      "metadata": {
        "id": "7nyHSB5VaOyk"
      },
      "execution_count": null,
      "outputs": []
    },
    {
      "cell_type": "code",
      "source": [
        "data1.count()"
      ],
      "metadata": {
        "id": "dkVuJcVTbOy1"
      },
      "execution_count": null,
      "outputs": []
    },
    {
      "cell_type": "code",
      "source": [
        "data[\"Weather\"].value_counts()"
      ],
      "metadata": {
        "id": "Ec1DHyniahsV"
      },
      "execution_count": null,
      "outputs": []
    },
    {
      "cell_type": "code",
      "source": [
        "data.groupby(\"Weather\").get_group(\"Clear\")"
      ],
      "metadata": {
        "id": "dYqQLLLyasl2"
      },
      "execution_count": null,
      "outputs": []
    },
    {
      "cell_type": "markdown",
      "source": [
        "Q)3.find the number of times when the \"wind speed was exactly 4 km/h\". "
      ],
      "metadata": {
        "id": "YJWzJ1SB7DbF"
      }
    },
    {
      "cell_type": "code",
      "source": [
        "data.columns"
      ],
      "metadata": {
        "id": "Q0rhQET7b7s8"
      },
      "execution_count": null,
      "outputs": []
    },
    {
      "cell_type": "code",
      "source": [
        "data[data[\"Wind Speed_km/h\"] == 4].count()"
      ],
      "metadata": {
        "id": "4HsOH3pub-3z"
      },
      "execution_count": null,
      "outputs": []
    },
    {
      "cell_type": "markdown",
      "source": [
        "Q)4. Find out all the null values in the data."
      ],
      "metadata": {
        "id": "X99DJwVP7lRG"
      }
    },
    {
      "cell_type": "code",
      "source": [
        "data.isnull().sum()"
      ],
      "metadata": {
        "id": "uIo1ZY01cU-j"
      },
      "execution_count": null,
      "outputs": []
    },
    {
      "cell_type": "markdown",
      "source": [
        "Q)5. Rename the column name \"weather\" of the dataframe to \"weather condition."
      ],
      "metadata": {
        "id": "O0wDowaF7-Td"
      }
    },
    {
      "cell_type": "code",
      "source": [
        "data.columns"
      ],
      "metadata": {
        "id": "9wJPN3Npcfsw"
      },
      "execution_count": null,
      "outputs": []
    },
    {
      "cell_type": "code",
      "source": [
        "data.rename(columns = {\"Weather\": \"Weather condition\"}, inplace = True)"
      ],
      "metadata": {
        "id": "t3fuLwtKck2a"
      },
      "execution_count": null,
      "outputs": []
    },
    {
      "cell_type": "code",
      "source": [
        "data.columns"
      ],
      "metadata": {
        "id": "iA6JdsVnc836"
      },
      "execution_count": null,
      "outputs": []
    },
    {
      "cell_type": "markdown",
      "source": [
        "Q)6. What is the mean \"visibility\" ?"
      ],
      "metadata": {
        "id": "URaFQ2ME8TS8"
      }
    },
    {
      "cell_type": "code",
      "source": [
        "data[\"Visibility_km\"].mean()"
      ],
      "metadata": {
        "id": "GHqyVEgFdAVM"
      },
      "execution_count": null,
      "outputs": []
    },
    {
      "cell_type": "markdown",
      "source": [
        "Q)7. what is the Standard Deviation of \"pressure' in this data ?"
      ],
      "metadata": {
        "id": "Y_FCbWXe8chU"
      }
    },
    {
      "cell_type": "code",
      "source": [
        "data.columns"
      ],
      "metadata": {
        "id": "n6BBG5y9dGWV"
      },
      "execution_count": null,
      "outputs": []
    },
    {
      "cell_type": "code",
      "source": [
        "data[\"Visibility_km\"].std()"
      ],
      "metadata": {
        "id": "q0IkQ1ctdI4Y"
      },
      "execution_count": null,
      "outputs": []
    },
    {
      "cell_type": "markdown",
      "source": [
        "Q)8. What is the variance of \"Relative humidity\" in this data ?"
      ],
      "metadata": {
        "id": "Z_r3LTQM8tve"
      }
    },
    {
      "cell_type": "code",
      "source": [
        "data[\"Rel Hum_%\"].var()"
      ],
      "metadata": {
        "id": "SvtZLbIcdPMB"
      },
      "execution_count": null,
      "outputs": []
    },
    {
      "cell_type": "markdown",
      "source": [
        "Q)9. find all instances when \"snow\" was recorded."
      ],
      "metadata": {
        "id": "bpFGownz86i5"
      }
    },
    {
      "cell_type": "code",
      "source": [
        "data.columns"
      ],
      "metadata": {
        "id": "qHgKkL7MjQmj"
      },
      "execution_count": null,
      "outputs": []
    },
    {
      "cell_type": "code",
      "source": [
        "data[\"Weather condition\"].value_counts()"
      ],
      "metadata": {
        "id": "ogfY_XQnjbX9"
      },
      "execution_count": null,
      "outputs": []
    },
    {
      "cell_type": "code",
      "source": [
        "data[data[\"Weather condition\"] == \"Snow\"]"
      ],
      "metadata": {
        "id": "m-ft-BO_jien"
      },
      "execution_count": null,
      "outputs": []
    },
    {
      "cell_type": "code",
      "source": [
        "data[data[\"Weather condition\"].str.contains(\"Snow\")].count()"
      ],
      "metadata": {
        "id": "sayZBltuj27Q"
      },
      "execution_count": null,
      "outputs": []
    },
    {
      "cell_type": "markdown",
      "source": [
        "Q)10. find all instances when \"wind speed is above 24\" and \"visibility is 25\"."
      ],
      "metadata": {
        "id": "dyZ-CgrP9K8B"
      }
    },
    {
      "cell_type": "code",
      "source": [
        "data.columns"
      ],
      "metadata": {
        "id": "h_uGpqdgkWpT"
      },
      "execution_count": null,
      "outputs": []
    },
    {
      "cell_type": "code",
      "source": [
        "data[(data[\"Wind Speed_km/h\"] > 24) & (data[\"Visibility_km\"] > 25)]"
      ],
      "metadata": {
        "id": "vevJS57HkPNN"
      },
      "execution_count": null,
      "outputs": []
    },
    {
      "cell_type": "markdown",
      "source": [
        "Q)11. what is the mean value of each column against each \"weather condition\" ?"
      ],
      "metadata": {
        "id": "5Bm9Ssmh9aJf"
      }
    },
    {
      "cell_type": "code",
      "source": [
        "data.columns"
      ],
      "metadata": {
        "id": "NMgpPOvQkxeU"
      },
      "execution_count": null,
      "outputs": []
    },
    {
      "cell_type": "code",
      "source": [
        "data.groupby(\"Weather condition\").mean()"
      ],
      "metadata": {
        "id": "KTtXUtUSlTBu"
      },
      "execution_count": null,
      "outputs": []
    },
    {
      "cell_type": "code",
      "source": [
        "data.groupby(\"Weather condition\")[\"Wind Speed_km/h\"].mean()"
      ],
      "metadata": {
        "id": "1Zf78-pKlBRb"
      },
      "execution_count": null,
      "outputs": []
    },
    {
      "cell_type": "markdown",
      "source": [
        "Q)12. what is the minimum and maximum value of each other column against each \"weather condition\" ?"
      ],
      "metadata": {
        "id": "VK4E2VFE9toz"
      }
    },
    {
      "cell_type": "code",
      "source": [
        "data.groupby(\"Weather condition\").max()"
      ],
      "metadata": {
        "id": "-X1-bx1GliwH"
      },
      "execution_count": null,
      "outputs": []
    },
    {
      "cell_type": "code",
      "source": [
        "data.groupby(\"Weather condition\").min()"
      ],
      "metadata": {
        "id": "gg9Oi4rKlkFT"
      },
      "execution_count": null,
      "outputs": []
    },
    {
      "cell_type": "markdown",
      "source": [
        "Q)13. show all the records where weather condition is fog ."
      ],
      "metadata": {
        "id": "LjHvMsoe97pT"
      }
    },
    {
      "cell_type": "code",
      "source": [
        "data.columns"
      ],
      "metadata": {
        "id": "SGviODVYls5y"
      },
      "execution_count": null,
      "outputs": []
    },
    {
      "cell_type": "code",
      "source": [
        "data[data[\"Weather condition\"] == \"Fog\"]"
      ],
      "metadata": {
        "id": "RfBAZ5N_lo4M"
      },
      "execution_count": null,
      "outputs": []
    },
    {
      "cell_type": "markdown",
      "source": [
        "Q)14. find all instances when \"weather is clear\" or 'visibility is above 40\".\n"
      ],
      "metadata": {
        "id": "h7lhp_gy-D7L"
      }
    },
    {
      "cell_type": "code",
      "source": [
        "data.columns"
      ],
      "metadata": {
        "id": "QOCPEAUnl9or"
      },
      "execution_count": null,
      "outputs": []
    },
    {
      "cell_type": "code",
      "source": [
        "data[(data[\"Weather condition\"] == \"Clear\") | (data[\"Visibility_km\"] > 40)]"
      ],
      "metadata": {
        "id": "fsBVJO0El44r"
      },
      "execution_count": null,
      "outputs": []
    },
    {
      "cell_type": "markdown",
      "source": [
        "Q)15. find all instances when :\n",
        "A.\"weather is clear\" and \"relative humidity is greater than 50\".\n",
        "\"OR\"\n",
        "B. \"visibility is above 40'.\n"
      ],
      "metadata": {
        "id": "rk4js3Mc-Twh"
      }
    },
    {
      "cell_type": "code",
      "source": [
        "data.columns"
      ],
      "metadata": {
        "id": "hmqj8etZmToZ"
      },
      "execution_count": null,
      "outputs": []
    },
    {
      "cell_type": "code",
      "source": [
        "data[((data[\"Weather condition\"] ==\"Clear\") & (data[\"Rel Hum_%\"] > 50 )) | (data[\"Visibility_km\"] > 40)]"
      ],
      "metadata": {
        "id": "DE7D1YXEmQln"
      },
      "execution_count": null,
      "outputs": []
    },
    {
      "cell_type": "code",
      "source": [
        "data[(data[\"Weather condition\"] ==\"Clear\") & (data[\"Rel Hum_%\"] > 50 ) | (data[\"Visibility_km\"] > 40)]"
      ],
      "metadata": {
        "id": "Siqb1vq0m6k3"
      },
      "execution_count": null,
      "outputs": []
    }
  ]
}